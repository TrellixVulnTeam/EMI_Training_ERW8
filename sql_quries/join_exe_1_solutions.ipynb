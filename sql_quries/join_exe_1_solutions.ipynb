{
    "metadata": {
        "kernelspec": {
            "name": "SQL",
            "display_name": "SQL",
            "language": "sql"
        },
        "language_info": {
            "name": "sql",
            "version": ""
        }
    },
    "nbformat_minor": 2,
    "nbformat": 4,
    "cells": [
        {
            "cell_type": "code",
            "source": [
                "\r\n",
                "\r\n",
                "select ord_no as 'Order no' ,purch_amt as 'purchase amount' ,cust_name as 'Customer name',city from customers c join orderss o on c.salesman_id=o.salesman_id\r\n",
                "\r\n",
                "\r\n",
                "\r\n",
                "select cust_name as 'Customer Name' , Name as 'Salesman Name' from customers c join salesman s on c.salesman_id=s.salesman_id\r\n",
                "\r\n",
                "\r\n",
                "\r\n",
                "select cust_name as 'Customer Name' , Name as 'Salesman Name'  from customers c join salesman s on c.salesman_id=s.salesman_id\r\n",
                "where commission>0.12\r\n",
                "\r\n",
                "\r\n",
                "select cust_name as 'CustomerName' , Name as 'salesman Name'   from customers c  join salesman s on c.salesman_id=s.salesman_id\r\n",
                "where c.city <> (s.city) and s.commission >0.12\r\n",
                "\r\n",
                "\r\n",
                "\r\n",
                "select ord_no as 'Order number' ,ord_date as 'Order date' ,purch_amt as 'Amount' ,cust_name as 'Customer name' , Name as 'Salesman name' ,commission from customers \r\n",
                "c join orderss o on c.customer_id=o.customer_id\r\n",
                "join salesman s on c.salesman_id=s.salesman_id\r\n",
                "\r\n",
                "\r\n",
                "\r\n",
                "select pro_name as 'Item name' ,pro_price as 'Price' ,com_name as 'Company Name' from item_mast i join company c on i.pro_com=c.com_id\r\n",
                ""
            ],
            "metadata": {
                "azdata_cell_guid": "8534d7a6-15f9-4ed9-bbc4-e952e1835cb6"
            },
            "outputs": [],
            "execution_count": null
        }
    ]
}