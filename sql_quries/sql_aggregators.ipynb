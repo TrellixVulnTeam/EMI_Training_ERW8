{
    "metadata": {
        "kernelspec": {
            "name": "SQL",
            "display_name": "SQL",
            "language": "sql"
        },
        "language_info": {
            "name": "sql",
            "version": ""
        }
    },
    "nbformat_minor": 2,
    "nbformat": 4,
    "cells": [
        {
            "cell_type": "code",
            "source": [
                "select max(salary)as maximu_salary,min(salary)as minimum_salary,avg(salary)as avg_salary from employee\r\n",
                "\r\n",
                "select  sum(salary),department_id from employee group by department_id\r\n",
                "\r\n",
                "select department_id, count(employee_id)as no_employees from employees group by department_id\r\n",
                "\r\n",
                "select department_id,sum(salary)from employees group by department_id\r\n",
                "\r\n",
                "select concat(first_name,last_name),department_id from employees\r\n",
                "\r\n",
                "select concat(first_name,last_name),salary from employees\r\n",
                "\r\n",
                "\r\n",
                "SELECT first_name,COUNT(department_id) FROM Employees GROUP BY first_name HAVING COUNT(department_id) > 1  \r\n",
                "\r\n",
                "select * from employees\r\n",
                "\r\n",
                "select manager_id ,sum(salary) as total_salary from employees group by manager_id\r\n",
                "\r\n",
                "select concat(m.first_name,m.last_name)as EmployeeName,m.department_id,m.salary,w.first_name as manager_name\r\n",
                "from employees m,employees w where m.manager_id=w.employee_id and m.last_name like '_a%' \r\n",
                "\r\n",
                "\r\n",
                "select department_id,avg(salary)as AvgSalary from dbo.employees group by department_id  order by department_id\r\n",
                "\r\n",
                "\r\n",
                "select department_id,max(salary)as MaxSalary from employees group by department_id"
            ],
            "metadata": {
                "azdata_cell_guid": "6988831d-9a0b-4438-8b02-b040e5ec1152"
            },
            "outputs": [],
            "execution_count": null
        }
    ]
}