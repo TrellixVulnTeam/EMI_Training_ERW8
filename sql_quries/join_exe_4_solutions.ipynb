{
    "metadata": {
        "kernelspec": {
            "name": "SQL",
            "display_name": "SQL",
            "language": "sql"
        },
        "language_info": {
            "name": "sql",
            "version": ""
        }
    },
    "nbformat_minor": 2,
    "nbformat": 4,
    "cells": [
        {
            "cell_type": "code",
            "source": [
                "--query 1\r\n",
                "\r\n",
                "select ar.Name as 'artist Name' ,r.Name as 'Record Label' from aartist ar join recordlabel r on ar.labelid=r.labelid\r\n",
                "\r\n",
                "--query 2\r\n",
                "select ar.name as 'Artist name',count(s.albumid) as 'number of songs' from aartist ar join Allbum al on ar.artistid=al.ArtistId \r\n",
                "join song s on al.ArtistId=s.albumid\r\n",
                "group by ar.name,s.albumid order by s.albumid asc\r\n",
                "\r\n",
                "--query 3\r\n",
                "select ar.Name as 'ArtistName',al.Name as 'AlbumName',count(s.albumid) as 'duration' from \r\n",
                "aartist ar join allbum al on ar.artistid=al.artistid\r\n",
                "join song s on s.albumid=al.albumid\r\n",
                "group by ar.name,al.name,s.albumid \r\n",
                "\r\n",
                "--query 4\r\n",
                "select ar.Name as 'artist name' ,al.Name as 'album name' from aartist ar join allbum al on ar.artistid=al.artistid\r\n",
                "group by ar.Name,al.Name having ar.name='Metallica'\r\n",
                "\r\n",
                "--query 5\r\n",
                "\r\n",
                "select (ar.name) as 'Artist name',sum(s.duration) as 'Song duration' from aartist ar join Allbum al on ar.artistid=al.ArtistId \r\n",
                "join song s on al.albumid=s.albumid\r\n",
                "group by ar.name order by [Song duration] desc\r\n",
                ""
            ],
            "metadata": {
                "azdata_cell_guid": "959a28a6-a3da-4c18-b60e-849a79599fae"
            },
            "outputs": [],
            "execution_count": null
        }
    ]
}