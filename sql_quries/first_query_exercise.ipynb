{
    "metadata": {
        "kernelspec": {
            "name": "SQL",
            "display_name": "SQL",
            "language": "sql"
        },
        "language_info": {
            "name": "sql",
            "version": ""
        }
    },
    "nbformat_minor": 2,
    "nbformat": 4,
    "cells": [
        {
            "cell_type": "code",
            "source": [
                " select distinct Department from EmployeeTable;\r\n",
                " alter table EmployeeTable ADD  LOCATION VARCHAR(20);\r\n",
                " SP_RENAME 'EmployeeTable.Empid','EmployeeID';\r\n",
                "select * from EmployeeTable where Department in('Sales','Shipping');\r\n",
                " select * from EmployeeTable where HireDate>'1991-01-01' and HireDate<'1998-01-01';\r\n",
                "create table emptable(EmpId int,Name VARCHAR(20),Department VARCHAR(20),HireDate date,Training VARCHAR(20));\r\n",
                " select * from EmployeeTable where Training>40; \r\n",
                " select * into emptable from EmployeeTable;\r\n",
                " delete  from EmployeeTable where Training>60;\r\n",
                "alter table EmployeeTable drop COLUMN HireDate;\r\n",
                " alter table EmployeeTable alter COLUMN Department VARCHAR(34);\r\n",
                " insert into EmployeeTable(Name,Department,Training)values('satya','SE','12');\r\n",
                " select * from EmployeeTable"
            ],
            "metadata": {
                "azdata_cell_guid": "873cd98f-5b51-4df4-98e3-43ae9eeb8ced"
            },
            "outputs": [
                {
                    "output_type": "error",
                    "evalue": "Msg 102, Level 15, State 1, Line 3\r\nIncorrect syntax near 'SP_RENAME'.",
                    "ename": "",
                    "traceback": []
                },
                {
                    "output_type": "display_data",
                    "data": {
                        "text/html": "Total execution time: 00:00:00.001"
                    },
                    "metadata": {}
                }
            ],
            "execution_count": 1
        }
    ]
}