{
    "metadata": {
        "kernelspec": {
            "name": "SQL",
            "display_name": "SQL",
            "language": "sql"
        },
        "language_info": {
            "name": "sql",
            "version": ""
        }
    },
    "nbformat_minor": 2,
    "nbformat": 4,
    "cells": [
        {
            "cell_type": "code",
            "source": [
                "--1.\r\n",
                "select T.Name as 'TrackName',T.composer,T.Milliseconds,T.bytes,al.Title as 'AlbumName',m.Name as 'mediaName',g.Name as 'genreName'\r\n",
                "from Track T join Album al on T.AlbumId=al.AlbumId\r\n",
                "join MediaType m on m.MediaTypeId=T.MediaTypeId\r\n",
                "join Genre g on g.GenreId=T.GenreId\r\n",
                "\r\n",
                "--2.\r\n",
                "select concat(c.FirstName,' ',c.LastName) as 'FullName' ,inv.invoiceid,inv.invoicedate,inv.billingcountry\r\n",
                "from Customer c join invoice inv on c.CustomerId=inv.CustomerId\r\n",
                "group by c.FirstName,c.LastName ,inv.invoiceid,inv.invoicedate,inv.billingcountry having inv.BillingCountry='Brazil'\r\n",
                "\r\n",
                "--4.\r\n",
                "select (emp.FirstName+ ' '+emp.LastName) as 'Sales Agent' ,inv.invoiceid,inv.customerid,inv.invoicedate,inv.InvoiceDate,inv.billingcity,inv.billingstate,inv.billingcountry,inv.billingpostalcode,inv.total\r\n",
                "from Employee emp join invoice inv on emp.EmployeeId=inv.InvoiceId\r\n",
                "\r\n",
                "--5. select inv.invoicelineid,inv.invoiceid,t.trackid,inv.unitprice,inv.quantity,al.title as 'track',ar.name 'artist'\r\n",
                "   from track t join InvoiceLine inv on t.TrackId=inv.TrackId \r\n",
                "   join album al on t.AlbumId=al.AlbumId\r\n",
                "   join artist ar on al.ArtistId=ar.ArtistId where InvoiceLineId in  (579,1,1154,1728,2)\r\n",
                "\r\n",
                "--7.select c.FirstName as 'Customer_name',inv.InvoiceDate as 'orderdate'\r\n",
                "from Customer c join Invoice inv on c.CustomerId=inv.CustomerId where InvoiceDate<='2012-03-11' and InvoiceDate>='2012-01-01'"
            ],
            "metadata": {
                "azdata_cell_guid": "8e068893-d78c-4f47-8565-7b8b25ba4458"
            },
            "outputs": [],
            "execution_count": null
        }
    ]
}