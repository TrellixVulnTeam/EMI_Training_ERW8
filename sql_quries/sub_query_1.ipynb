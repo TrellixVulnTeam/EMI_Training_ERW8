{
    "metadata": {
        "kernelspec": {
            "name": "SQL",
            "display_name": "SQL",
            "language": "sql"
        },
        "language_info": {
            "name": "sql",
            "version": ""
        }
    },
    "nbformat_minor": 2,
    "nbformat": 4,
    "cells": [
        {
            "cell_type": "code",
            "source": [
                "\r\n",
                "--query 1\r\n",
                "\r\n",
                "select Name from Artists where artistid=(select top 1 artistid from albums group by artistid having (count(artistid) > 1))\r\n",
                "\r\n",
                "\r\n",
                "--query 2\r\n",
                "\r\n",
                "\r\n",
                "select name from Artists where artistid in  (select ArtistId,count(artistid) from albums group by artistid having (count(artistid) = 1))\r\n",
                "\r\n",
                "\r\n",
                "--query 3\r\n",
                "\r\n",
                "select count(ArtistId) from Artists where artistid in  (select ArtistId,count(artistid) from albums group by artistid having (count(artistid) = 1))\r\n",
                "\r\n",
                "--query 4\r\n",
                "\r\n",
                "select count(*) from songg where Duration<5.00\r\n",
                "\r\n",
                "--query 5\r\n",
                "\r\n",
                "select artistid from albums where albumid in(select AlbumId,sum(duration) as 'total duration' from songg   group by AlbumId order by AlbumId desc)\r\n",
                ""
            ],
            "metadata": {
                "azdata_cell_guid": "4f7a34d1-3db4-4593-a369-756082221972"
            },
            "outputs": [],
            "execution_count": null
        }
    ]
}